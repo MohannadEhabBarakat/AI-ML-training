{
 "cells": [
  {
   "cell_type": "markdown",
   "metadata": {},
   "source": [
    "# Classifying Fashion-MNIST\n",
    "\n",
    "In this notebook [Fashion-MNIST dataset](https://github.com/zalandoresearch/fashion-mnist) will be used to train a MLT network to detect the type of the clothes. Ofcourse as MLT is only used the accuracy is excpected not to be the best. \n",
    "\n",
    "<img src='assets/fashion-mnist-sprite.png' width=500px>\n",
    "<center>*sample of the dataset*</center>"
   ]
  },
  {
   "cell_type": "markdown",
   "metadata": {},
   "source": [
    "Let's import necessary modules and load the data"
   ]
  },
  {
   "cell_type": "code",
   "execution_count": null,
   "metadata": {},
   "outputs": [
    {
     "name": "stdout",
     "output_type": "stream",
     "text": [
      "Downloading http://fashion-mnist.s3-website.eu-central-1.amazonaws.com/train-images-idx3-ubyte.gz to F_MNIST_data/FashionMNIST/raw/train-images-idx3-ubyte.gz\n"
     ]
    },
    {
     "data": {
      "application/vnd.jupyter.widget-view+json": {
       "model_id": "44f242554a9f4b14be9bee17e1ddda62",
       "version_major": 2,
       "version_minor": 0
      },
      "text/plain": [
       "HBox(children=(IntProgress(value=1, bar_style='info', max=1), HTML(value='')))"
      ]
     },
     "metadata": {},
     "output_type": "display_data"
    }
   ],
   "source": [
    "%matplotlib inline\n",
    "%config InlineBackend.figure_format = 'retina'\n",
    "\n",
    "import matplotlib.pyplot as plt\n",
    "import numpy as np\n",
    "import time\n",
    "\n",
    "import torch\n",
    "from torch import nn\n",
    "from torch import optim\n",
    "import torch.nn.functional as F\n",
    "from torchvision import datasets, transforms\n",
    "from collections import OrderedDict\n",
    "\n",
    "import helper\n",
    "\n",
    "# Define a transform to normalize the data\n",
    "transform = transforms.Compose([transforms.ToTensor(),\n",
    "                                transforms.Normalize([0.5], [0.5])])\n",
    "# Download and load the training data\n",
    "trainset = datasets.FashionMNIST('F_MNIST_data/', download=True, train=True, transform=transform)\n",
    "trainloader = torch.utils.data.DataLoader(trainset, batch_size=64, shuffle=True)\n",
    "\n",
    "# Download and load the test data\n",
    "testset = datasets.FashionMNIST('F_MNIST_data/', download=True, train=False, transform=transform)\n",
    "testloader = torch.utils.data.DataLoader(testset, batch_size=64, shuffle=True)"
   ]
  },
  {
   "cell_type": "markdown",
   "metadata": {},
   "source": [
    "Here we can see one of the images."
   ]
  },
  {
   "cell_type": "code",
   "execution_count": 9,
   "metadata": {},
   "outputs": [
    {
     "data": {
      "image/png": "[encoded data removed]",
      "text/plain": [
       "<Figure size 432x288 with 1 Axes>"
      ]
     },
     "metadata": {
      "image/png": {
       "height": 231,
       "width": 231
      },
      "needs_background": "light"
     },
     "output_type": "display_data"
    }
   ],
   "source": [
    "image, label = next(iter(trainloader))\n",
    "helper.imshow(image[0,:]);"
   ]
  },
  {
   "cell_type": "markdown",
   "metadata": {},
   "source": [
    "## Building the network\n",
    "\n",
    "Seduential nn with Ordered Dict"
   ]
  },
  {
   "cell_type": "code",
   "execution_count": 20,
   "metadata": {},
   "outputs": [
    {
     "data": {
      "text/plain": [
       "Sequential(\n",
       "  (fc1): Linear(in_features=784, out_features=400, bias=True)\n",
       "  (relu1): ReLU()\n",
       "  (fc2): Linear(in_features=400, out_features=200, bias=True)\n",
       "  (relu2): ReLU()\n",
       "  (output): Linear(in_features=200, out_features=10, bias=True)\n",
       "  (softmax): Softmax(dim=1)\n",
       ")"
      ]
     },
     "execution_count": 20,
     "metadata": {},
     "output_type": "execute_result"
    }
   ],
   "source": [
    "# Hyperparameters for our network\n",
    "input_size = 784\n",
    "hidden_sizes = [400, 200]\n",
    "output_size = 10\n",
    "learning_rate = 0.1\n",
    "epochs = 5\n",
    "print_every = 80\n",
    "steps = 0\n",
    "\n",
    "# TODO: Define your network architecture here\n",
    "model = nn.Sequential(OrderedDict([\n",
    "                      ('fc1', nn.Linear(input_size, hidden_sizes[0])),\n",
    "                      ('relu1', nn.ReLU()),\n",
    "                      ('fc2', nn.Linear(hidden_sizes[0], hidden_sizes[1])),\n",
    "                      ('relu2', nn.ReLU()),\n",
    "                      ('output', nn.Linear(hidden_sizes[1], output_size)),\n",
    "                      ('softmax', nn.Softmax(dim=1))]))\n",
    "model"
   ]
  },
  {
   "cell_type": "markdown",
   "metadata": {},
   "source": [
    "# Train the network"
   ]
  },
  {
   "cell_type": "code",
   "execution_count": 1,
   "metadata": {},
   "outputs": [
    {
     "ename": "NameError",
     "evalue": "name 'nn' is not defined",
     "output_type": "error",
     "traceback": [
      "\u001b[0;31m---------------------------------------------------------------------------\u001b[0m",
      "\u001b[0;31mNameError\u001b[0m                                 Traceback (most recent call last)",
      "\u001b[0;32m<ipython-input-1-eb625362ac21>\u001b[0m in \u001b[0;36m<module>\u001b[0;34m()\u001b[0m\n\u001b[0;32m----> 1\u001b[0;31m \u001b[0mcriterion\u001b[0m \u001b[0;34m=\u001b[0m \u001b[0mnn\u001b[0m\u001b[0;34m.\u001b[0m\u001b[0mCrossEntropyLoss\u001b[0m\u001b[0;34m(\u001b[0m\u001b[0;34m)\u001b[0m\u001b[0;34m\u001b[0m\u001b[0;34m\u001b[0m\u001b[0m\n\u001b[0m\u001b[1;32m      2\u001b[0m \u001b[0moptimizer\u001b[0m \u001b[0;34m=\u001b[0m \u001b[0moptim\u001b[0m\u001b[0;34m.\u001b[0m\u001b[0mSGD\u001b[0m\u001b[0;34m(\u001b[0m\u001b[0mmodel\u001b[0m\u001b[0;34m.\u001b[0m\u001b[0mparameters\u001b[0m\u001b[0;34m(\u001b[0m\u001b[0;34m)\u001b[0m\u001b[0;34m,\u001b[0m \u001b[0mlr\u001b[0m\u001b[0;34m=\u001b[0m\u001b[0mlearning_rate\u001b[0m\u001b[0;34m)\u001b[0m\u001b[0;34m\u001b[0m\u001b[0;34m\u001b[0m\u001b[0m\n",
      "\u001b[0;31mNameError\u001b[0m: name 'nn' is not defined"
     ]
    }
   ],
   "source": [
    "criterion = nn.CrossEntropyLoss()\n",
    "optimizer = optim.Adam(model.parameters(), lr=learning_rate)"
   ]
  },
  {
   "cell_type": "code",
   "execution_count": 22,
   "metadata": {},
   "outputs": [
    {
     "name": "stdout",
     "output_type": "stream",
     "text": [
      "Epoch: 1/5...  Loss: 2.2635\n",
      "Epoch: 1/5...  Loss: 2.0300\n",
      "Epoch: 1/5...  Loss: 1.8383\n",
      "Epoch: 1/5...  Loss: 1.7944\n",
      "Epoch: 1/5...  Loss: 1.7708\n",
      "Epoch: 1/5...  Loss: 1.7320\n",
      "Epoch: 1/5...  Loss: 1.7130\n",
      "Epoch: 1/5...  Loss: 1.7029\n",
      "Epoch: 1/5...  Loss: 1.6940\n",
      "Epoch: 1/5...  Loss: 1.6895\n",
      "Epoch: 1/5...  Loss: 1.6838\n",
      "Epoch: 2/5...  Loss: 0.4661\n",
      "Epoch: 2/5...  Loss: 1.6791\n",
      "Epoch: 2/5...  Loss: 1.6748\n",
      "Epoch: 2/5...  Loss: 1.6785\n",
      "Epoch: 2/5...  Loss: 1.6779\n",
      "Epoch: 2/5...  Loss: 1.6655\n",
      "Epoch: 2/5...  Loss: 1.6738\n",
      "Epoch: 2/5...  Loss: 1.6757\n",
      "Epoch: 2/5...  Loss: 1.6710\n",
      "Epoch: 2/5...  Loss: 1.6758\n",
      "Epoch: 2/5...  Loss: 1.6652\n",
      "Epoch: 2/5...  Loss: 1.6687\n",
      "Epoch: 3/5...  Loss: 0.9130\n",
      "Epoch: 3/5...  Loss: 1.6677\n",
      "Epoch: 3/5...  Loss: 1.6592\n",
      "Epoch: 3/5...  Loss: 1.6632\n",
      "Epoch: 3/5...  Loss: 1.6610\n",
      "Epoch: 3/5...  Loss: 1.6603\n",
      "Epoch: 3/5...  Loss: 1.6548\n",
      "Epoch: 3/5...  Loss: 1.6713\n",
      "Epoch: 3/5...  Loss: 1.6631\n",
      "Epoch: 3/5...  Loss: 1.6603\n",
      "Epoch: 3/5...  Loss: 1.6559\n",
      "Epoch: 3/5...  Loss: 1.6499\n",
      "Epoch: 4/5...  Loss: 1.3655\n",
      "Epoch: 4/5...  Loss: 1.6657\n",
      "Epoch: 4/5...  Loss: 1.6437\n",
      "Epoch: 4/5...  Loss: 1.6537\n",
      "Epoch: 4/5...  Loss: 1.6561\n",
      "Epoch: 4/5...  Loss: 1.6553\n",
      "Epoch: 4/5...  Loss: 1.6524\n",
      "Epoch: 4/5...  Loss: 1.6530\n",
      "Epoch: 4/5...  Loss: 1.6553\n",
      "Epoch: 4/5...  Loss: 1.6483\n",
      "Epoch: 4/5...  Loss: 1.6418\n",
      "Epoch: 5/5...  Loss: 0.1659\n",
      "Epoch: 5/5...  Loss: 1.6468\n",
      "Epoch: 5/5...  Loss: 1.6499\n",
      "Epoch: 5/5...  Loss: 1.6437\n",
      "Epoch: 5/5...  Loss: 1.6457\n",
      "Epoch: 5/5...  Loss: 1.6450\n",
      "Epoch: 5/5...  Loss: 1.6551\n",
      "Epoch: 5/5...  Loss: 1.6448\n",
      "Epoch: 5/5...  Loss: 1.6396\n",
      "Epoch: 5/5...  Loss: 1.6558\n",
      "Epoch: 5/5...  Loss: 1.6534\n",
      "Epoch: 5/5...  Loss: 1.6536\n"
     ]
    }
   ],
   "source": [
    "# Train the network\n",
    "for e in range(epochs):\n",
    "    running_loss = 0\n",
    "    for images, labels in iter(trainloader):\n",
    "        steps += 1\n",
    "        # Flatten MNIST images into a 784 long vector\n",
    "        images.resize_(images.size()[0], 784)\n",
    "        \n",
    "        optimizer.zero_grad()\n",
    "        \n",
    "        # Forward and backward passes\n",
    "        output = model.forward(images)\n",
    "        loss = criterion(output, labels)\n",
    "        loss.backward()\n",
    "        optimizer.step()\n",
    "        \n",
    "        running_loss += loss.item()\n",
    "        \n",
    "        if steps % print_every == 0:\n",
    "            print(\"Epoch: {}/{}... \".format(e+1, epochs),\n",
    "                  \"Loss: {:.4f}\".format(running_loss/print_every))\n",
    "            \n",
    "            running_loss = 0\n"
   ]
  },
  {
   "cell_type": "code",
   "execution_count": 24,
   "metadata": {},
   "outputs": [
    {
     "data": {
      "image/png": "[encoded data removed]",
      "text/plain": [
       "<Figure size 432x648 with 2 Axes>"
      ]
     },
     "metadata": {
      "image/png": {
       "height": 216,
       "width": 424
      },
      "needs_background": "light"
     },
     "output_type": "display_data"
    }
   ],
   "source": [
    "# Test out the network! (wit training set)\n",
    "\n",
    "dataiter = iter(testloader)\n",
    "images, labels = dataiter.next()\n",
    "img = images[1]\n",
    "# Convert 2D image to 1D vector\n",
    "img = img.resize_(1, 784)\n",
    "\n",
    "# Turn off gradients to speed up this part\n",
    "with torch.no_grad():\n",
    "    logits = model.forward(img)\n",
    "\n",
    "# TODO: Calculate the class probabilities (softmax) for img\n",
    "ps = F.softmax(logits, dim=1)\n",
    "\n",
    "# Plot the image and probabilities\n",
    "helper.view_classify(img.resize_(1, 28, 28), ps, version='Fashion')"
   ]
  }
 ],
 "metadata": {
  "kernelspec": {
   "display_name": "Python 3",
   "language": "python",
   "name": "python3"
  },
  "language_info": {
   "codemirror_mode": {
    "name": "ipython",
    "version": 3
   },
   "file_extension": ".py",
   "mimetype": "text/x-python",
   "name": "python",
   "nbconvert_exporter": "python",
   "pygments_lexer": "ipython3",
   "version": "3.7.4"
  }
 },
 "nbformat": 4,
 "nbformat_minor": 2
}
