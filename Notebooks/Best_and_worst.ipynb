{
  "nbformat": 4,
  "nbformat_minor": 0,
  "metadata": {
    "colab": {
      "name": "Best and worst.ipynb",
      "provenance": [],
      "collapsed_sections": [],
      "authorship_tag": "ABX9TyPemkxozTqzgLaT6fecvPio",
      "include_colab_link": true
    },
    "kernelspec": {
      "name": "python3",
      "display_name": "Python 3"
    }
  },
  "cells": [
    {
      "cell_type": "markdown",
      "metadata": {
        "id": "view-in-github",
        "colab_type": "text"
      },
      "source": [
        "<a href=\"https://colab.research.google.com/github/MohannadEhabBarakat/AI-ML-training/blob/master/Notebooks/Best_and_worst.ipynb\" target=\"_parent\"><img src=\"https://colab.research.google.com/assets/colab-badge.svg\" alt=\"Open In Colab\"/></a>"
      ]
    },
    {
      "cell_type": "markdown",
      "metadata": {
        "id": "DliFCSsrH8YT"
      },
      "source": [
        "**Per batch fnc**\n",
        "\n",
        "inputs: <br>\n",
        "x, y, model, pre model, past model, npick\n",
        "\n",
        "output: <br>\n",
        "best npick and worest npick in a batch"
      ]
    },
    {
      "cell_type": "markdown",
      "metadata": {
        "id": "USBHDQSzI0E4"
      },
      "source": [
        "**Per set fnc**\n",
        "\n",
        "inputs:\n",
        "dataset object, model, pre model, past model, npick\n",
        "\n",
        "output:\n",
        "best npick and worest npick in a batch"
      ]
    },
    {
      "cell_type": "code",
      "metadata": {
        "colab": {
          "base_uri": "https://localhost:8080/"
        },
        "id": "ZzxBO2AmIzue",
        "outputId": "e70a55e0-a8b8-4a0b-b004-43d3da9a2831"
      },
      "source": [
        "inputs = [1,2,3]\n",
        "logits = ['a', 'b', 'c']\n",
        "loss   = [0.1, 0, 0.01]\n",
        "\n",
        "zipped = zip(loss, logits, inputs)\n",
        "sorted(zipped)"
      ],
      "execution_count": 2,
      "outputs": [
        {
          "output_type": "execute_result",
          "data": {
            "text/plain": [
              "[(0, 'b', 2), (0.01, 'c', 3), (0.1, 'a', 1)]"
            ]
          },
          "metadata": {
            "tags": []
          },
          "execution_count": 2
        }
      ]
    },
    {
      "cell_type": "code",
      "metadata": {
        "colab": {
          "base_uri": "https://localhost:8080/"
        },
        "id": "TrVqqGaRH7yj",
        "outputId": "546db0fc-ae5e-4daa-d1c7-016cdc911bdb"
      },
      "source": [
        "zipped"
      ],
      "execution_count": 5,
      "outputs": [
        {
          "output_type": "execute_result",
          "data": {
            "text/plain": [
              "<zip at 0x7fc252d54f48>"
            ]
          },
          "metadata": {
            "tags": []
          },
          "execution_count": 5
        }
      ]
    },
    {
      "cell_type": "code",
      "metadata": {
        "id": "8zKPGcIy5YSy"
      },
      "source": [
        "def best_and_worest_per_batch(x, y, model, npick, loss, pre_model=None, post_model=None):\n",
        "  if pre_model:\n",
        "    x = pre_model(x)\n",
        "  \n",
        "  logits = model(x)\n",
        "  loss_  = loss(y, logits)\n",
        "\n",
        "  if post_model:\n",
        "    logits = post_model(logits)\n",
        "\n",
        "  all = sorted(zip(loss, x, logits, y))\n",
        "\n",
        "  n = npick if npick <= x.shape[0] else x.shape[0] \n",
        "  \n",
        "  best   = all[:n]\n",
        "  worest = all[-n:]\n",
        "\n",
        "  return best, worest"
      ],
      "execution_count": 4,
      "outputs": []
    },
    {
      "cell_type": "code",
      "metadata": {
        "id": "pBaLdQFpNocK"
      },
      "source": [
        "def best_and_worest_per(dataset, model, npick, global_npick, loss, pre_model=None, post_model=None):\n",
        "  best_overall=[]\n",
        "  worest_overall=[]\n",
        "  \n",
        "  for x,y in dataset:\n",
        "    best, worest = best_and_worest_per_batch(x, y, model, npick, loss, pre_model, post_model)\n",
        "    \n",
        "    best_overall.extend(best)\n",
        "    worest_overall.extend(worest)\n",
        "\n",
        "    best_overall   = sorted(best_overall)\n",
        "    worest_overall = sorted(worest_overall)\n",
        "\n",
        "    n = global_npick if global_npick <= x.shape[0] else x.shape[0]\n",
        "\n",
        "    best_overall   = best_overall[:n]\n",
        "    worest_overall = worest_overall[-n:]\n",
        "\n",
        "  return best_overall, worest_overall"
      ],
      "execution_count": 6,
      "outputs": []
    },
    {
      "cell_type": "code",
      "metadata": {
        "id": "ofulhcYwO1bH"
      },
      "source": [
        ""
      ],
      "execution_count": null,
      "outputs": []
    }
  ]
}